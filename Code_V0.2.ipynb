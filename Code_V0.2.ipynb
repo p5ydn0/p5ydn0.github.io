{
 "cells": [
  {
   "cell_type": "code",
   "execution_count": 91,
   "id": "2e0eef16-522d-4d29-b627-446b9c455993",
   "metadata": {},
   "outputs": [],
   "source": [
    "import numpy as np\n",
    "import pandas as pd\n",
    "import matplotlib.pyplot as plt\n",
    "import matplotlib.dates as mdates\n",
    "import seaborn as sns\n",
    "from scipy.stats import pearsonr, spearmanr"
   ]
  },
  {
   "cell_type": "code",
   "execution_count": null,
   "id": "b9065ddb-3991-4299-b46c-5798c999c542",
   "metadata": {},
   "outputs": [],
   "source": []
  },
  {
   "cell_type": "code",
   "execution_count": null,
   "id": "33b3b6ea-931d-4851-ae29-cd13a47f061a",
   "metadata": {},
   "outputs": [],
   "source": []
  },
  {
   "cell_type": "markdown",
   "id": "f8dffc4f-e90f-4f1c-9a1c-2134946eea2b",
   "metadata": {
    "panel-layout": {
     "height": 50.82386016845703,
     "visible": true,
     "width": 100
    }
   },
   "source": [
    "## 1. 首先，这个数据有一个总体的概览和探索。其中包括但不限于："
   ]
  },
  {
   "cell_type": "markdown",
   "id": "38118e1a-bc2f-4488-a5a8-70a52b48f5f5",
   "metadata": {
    "panel-layout": {
     "height": 136.8607940673828,
     "visible": true,
     "width": 100
    }
   },
   "source": [
    "1. 对记录数的查看。\n",
    "2. 对各个字段具体的含义：\n",
    "    1. **更新日期（Date）**：表示数据记录的时间点，即该数据对应的时间范围的结束日期。（时间间隔大多数是 **7天**）\n",
    "    2. **库存量（Stock，单位：万吨）**：该数据反映的是 **某个时间点的库存**（类似于存量数据），即 **统计周期的结束时点**，不是整个周期的累积量。\n",
    "    3. **周度产量（Weekly Production，单位：万吨）**：表示 **每周** 山西地区的煤炭产量（即该周的总生产量）。"
   ]
  },
  {
   "cell_type": "code",
   "execution_count": 18,
   "id": "8a6639a8-2c51-4233-bd5a-9a7787329812",
   "metadata": {},
   "outputs": [],
   "source": [
    "file_path = \"data.xlsx\"\n",
    "df = pd.read_excel(file_path)"
   ]
  },
  {
   "cell_type": "code",
   "execution_count": 19,
   "id": "82a18819-2997-4ebf-b896-a8d9ca3c767c",
   "metadata": {
    "panel-layout": {
     "height": 327.7840881347656,
     "visible": true,
     "width": 100
    }
   },
   "outputs": [
    {
     "data": {
      "text/html": [
       "<div>\n",
       "<style scoped>\n",
       "    .dataframe tbody tr th:only-of-type {\n",
       "        vertical-align: middle;\n",
       "    }\n",
       "\n",
       "    .dataframe tbody tr th {\n",
       "        vertical-align: top;\n",
       "    }\n",
       "\n",
       "    .dataframe thead th {\n",
       "        text-align: right;\n",
       "    }\n",
       "</style>\n",
       "<table border=\"1\" class=\"dataframe\">\n",
       "  <thead>\n",
       "    <tr style=\"text-align: right;\">\n",
       "      <th></th>\n",
       "      <th>FW2024D-动力煤产销存（160家）</th>\n",
       "      <th>Unnamed: 1</th>\n",
       "      <th>Unnamed: 2</th>\n",
       "    </tr>\n",
       "  </thead>\n",
       "  <tbody>\n",
       "    <tr>\n",
       "      <th>0</th>\n",
       "      <td>指标名称</td>\n",
       "      <td>山西-库存 (万吨)</td>\n",
       "      <td>山西-周度产量 (万吨)</td>\n",
       "    </tr>\n",
       "    <tr>\n",
       "      <th>1</th>\n",
       "      <td>更新频率</td>\n",
       "      <td>周度</td>\n",
       "      <td>周度</td>\n",
       "    </tr>\n",
       "    <tr>\n",
       "      <th>2</th>\n",
       "      <td>值项</td>\n",
       "      <td>库存</td>\n",
       "      <td>周度产量</td>\n",
       "    </tr>\n",
       "    <tr>\n",
       "      <th>3</th>\n",
       "      <td>单位</td>\n",
       "      <td>万吨</td>\n",
       "      <td>万吨</td>\n",
       "    </tr>\n",
       "    <tr>\n",
       "      <th>4</th>\n",
       "      <td>数据来源</td>\n",
       "      <td>中国煤炭资源网</td>\n",
       "      <td>中国煤炭资源网</td>\n",
       "    </tr>\n",
       "    <tr>\n",
       "      <th>5</th>\n",
       "      <td>2024-07-31 00:00:00</td>\n",
       "      <td>106.1</td>\n",
       "      <td>363</td>\n",
       "    </tr>\n",
       "    <tr>\n",
       "      <th>6</th>\n",
       "      <td>2024-07-24 00:00:00</td>\n",
       "      <td>106.1</td>\n",
       "      <td>365</td>\n",
       "    </tr>\n",
       "    <tr>\n",
       "      <th>7</th>\n",
       "      <td>2024-07-17 00:00:00</td>\n",
       "      <td>105.2</td>\n",
       "      <td>364</td>\n",
       "    </tr>\n",
       "    <tr>\n",
       "      <th>8</th>\n",
       "      <td>2024-07-10 00:00:00</td>\n",
       "      <td>105.1</td>\n",
       "      <td>368</td>\n",
       "    </tr>\n",
       "    <tr>\n",
       "      <th>9</th>\n",
       "      <td>2024-07-03 00:00:00</td>\n",
       "      <td>108.4</td>\n",
       "      <td>386</td>\n",
       "    </tr>\n",
       "  </tbody>\n",
       "</table>\n",
       "</div>"
      ],
      "text/plain": [
       "  FW2024D-动力煤产销存（160家）  Unnamed: 1    Unnamed: 2\n",
       "0                 指标名称  山西-库存 (万吨)  山西-周度产量 (万吨)\n",
       "1                 更新频率          周度            周度\n",
       "2                   值项          库存          周度产量\n",
       "3                   单位          万吨            万吨\n",
       "4                 数据来源     中国煤炭资源网       中国煤炭资源网\n",
       "5  2024-07-31 00:00:00       106.1           363\n",
       "6  2024-07-24 00:00:00       106.1           365\n",
       "7  2024-07-17 00:00:00       105.2           364\n",
       "8  2024-07-10 00:00:00       105.1           368\n",
       "9  2024-07-03 00:00:00       108.4           386"
      ]
     },
     "execution_count": 19,
     "metadata": {},
     "output_type": "execute_result"
    }
   ],
   "source": [
    "df.head(10)"
   ]
  },
  {
   "cell_type": "code",
   "execution_count": 20,
   "id": "d7b915d0-7b98-4860-b974-66be9d0adb84",
   "metadata": {
    "panel-layout": {
     "height": 327.7840881347656,
     "visible": true,
     "width": 100
    }
   },
   "outputs": [
    {
     "data": {
      "text/html": [
       "<div>\n",
       "<style scoped>\n",
       "    .dataframe tbody tr th:only-of-type {\n",
       "        vertical-align: middle;\n",
       "    }\n",
       "\n",
       "    .dataframe tbody tr th {\n",
       "        vertical-align: top;\n",
       "    }\n",
       "\n",
       "    .dataframe thead th {\n",
       "        text-align: right;\n",
       "    }\n",
       "</style>\n",
       "<table border=\"1\" class=\"dataframe\">\n",
       "  <thead>\n",
       "    <tr style=\"text-align: right;\">\n",
       "      <th></th>\n",
       "      <th>FW2024D-动力煤产销存（160家）</th>\n",
       "      <th>Unnamed: 1</th>\n",
       "      <th>Unnamed: 2</th>\n",
       "    </tr>\n",
       "  </thead>\n",
       "  <tbody>\n",
       "    <tr>\n",
       "      <th>115</th>\n",
       "      <td>2022-06-21 00:00:00</td>\n",
       "      <td>115</td>\n",
       "      <td>392</td>\n",
       "    </tr>\n",
       "    <tr>\n",
       "      <th>116</th>\n",
       "      <td>2022-06-14 00:00:00</td>\n",
       "      <td>113.4</td>\n",
       "      <td>392</td>\n",
       "    </tr>\n",
       "    <tr>\n",
       "      <th>117</th>\n",
       "      <td>2022-06-07 00:00:00</td>\n",
       "      <td>113.2</td>\n",
       "      <td>392</td>\n",
       "    </tr>\n",
       "    <tr>\n",
       "      <th>118</th>\n",
       "      <td>2022-05-31 00:00:00</td>\n",
       "      <td>112</td>\n",
       "      <td>388</td>\n",
       "    </tr>\n",
       "    <tr>\n",
       "      <th>119</th>\n",
       "      <td>2022-05-24 00:00:00</td>\n",
       "      <td>112.3</td>\n",
       "      <td>402</td>\n",
       "    </tr>\n",
       "    <tr>\n",
       "      <th>120</th>\n",
       "      <td>2022-05-17 00:00:00</td>\n",
       "      <td>114.3</td>\n",
       "      <td>412</td>\n",
       "    </tr>\n",
       "    <tr>\n",
       "      <th>121</th>\n",
       "      <td>2022-05-10 00:00:00</td>\n",
       "      <td>115.3</td>\n",
       "      <td>414</td>\n",
       "    </tr>\n",
       "    <tr>\n",
       "      <th>122</th>\n",
       "      <td>2022-05-03 00:00:00</td>\n",
       "      <td>116.3</td>\n",
       "      <td>439</td>\n",
       "    </tr>\n",
       "    <tr>\n",
       "      <th>123</th>\n",
       "      <td>NaN</td>\n",
       "      <td>NaN</td>\n",
       "      <td>NaN</td>\n",
       "    </tr>\n",
       "    <tr>\n",
       "      <th>124</th>\n",
       "      <td>此数据下载自中国煤炭资源网（Sxcoal），使用请注明出处。</td>\n",
       "      <td>NaN</td>\n",
       "      <td>NaN</td>\n",
       "    </tr>\n",
       "  </tbody>\n",
       "</table>\n",
       "</div>"
      ],
      "text/plain": [
       "               FW2024D-动力煤产销存（160家） Unnamed: 1 Unnamed: 2\n",
       "115             2022-06-21 00:00:00        115        392\n",
       "116             2022-06-14 00:00:00      113.4        392\n",
       "117             2022-06-07 00:00:00      113.2        392\n",
       "118             2022-05-31 00:00:00        112        388\n",
       "119             2022-05-24 00:00:00      112.3        402\n",
       "120             2022-05-17 00:00:00      114.3        412\n",
       "121             2022-05-10 00:00:00      115.3        414\n",
       "122             2022-05-03 00:00:00      116.3        439\n",
       "123                             NaN        NaN        NaN\n",
       "124  此数据下载自中国煤炭资源网（Sxcoal），使用请注明出处。        NaN        NaN"
      ]
     },
     "execution_count": 20,
     "metadata": {},
     "output_type": "execute_result"
    }
   ],
   "source": [
    "df.tail(10)"
   ]
  },
  {
   "cell_type": "code",
   "execution_count": 21,
   "id": "cbbdd1f4-4421-4ef8-a36d-d106c7ec870d",
   "metadata": {},
   "outputs": [],
   "source": [
    "df = df.iloc[5:-2]"
   ]
  },
  {
   "cell_type": "code",
   "execution_count": 22,
   "id": "e4fd33c8-1ca6-444f-a786-b2552d213dd3",
   "metadata": {},
   "outputs": [],
   "source": [
    "df.columns = [\"Date\", \"Stock\", \"Weekly Production\"]\n",
    "df = df.reset_index(drop=True)"
   ]
  },
  {
   "cell_type": "code",
   "execution_count": 23,
   "id": "8f469afa-72b7-4cce-9bce-24a8e62af675",
   "metadata": {
    "panel-layout": {
     "height": 3438.92041015625,
     "visible": true,
     "width": 100
    }
   },
   "outputs": [
    {
     "data": {
      "text/html": [
       "<div>\n",
       "<style scoped>\n",
       "    .dataframe tbody tr th:only-of-type {\n",
       "        vertical-align: middle;\n",
       "    }\n",
       "\n",
       "    .dataframe tbody tr th {\n",
       "        vertical-align: top;\n",
       "    }\n",
       "\n",
       "    .dataframe thead th {\n",
       "        text-align: right;\n",
       "    }\n",
       "</style>\n",
       "<table border=\"1\" class=\"dataframe\">\n",
       "  <thead>\n",
       "    <tr style=\"text-align: right;\">\n",
       "      <th></th>\n",
       "      <th>Date</th>\n",
       "      <th>Stock</th>\n",
       "      <th>Weekly Production</th>\n",
       "    </tr>\n",
       "  </thead>\n",
       "  <tbody>\n",
       "    <tr>\n",
       "      <th>0</th>\n",
       "      <td>2024-07-31 00:00:00</td>\n",
       "      <td>106.1</td>\n",
       "      <td>363</td>\n",
       "    </tr>\n",
       "    <tr>\n",
       "      <th>1</th>\n",
       "      <td>2024-07-24 00:00:00</td>\n",
       "      <td>106.1</td>\n",
       "      <td>365</td>\n",
       "    </tr>\n",
       "    <tr>\n",
       "      <th>2</th>\n",
       "      <td>2024-07-17 00:00:00</td>\n",
       "      <td>105.2</td>\n",
       "      <td>364</td>\n",
       "    </tr>\n",
       "    <tr>\n",
       "      <th>3</th>\n",
       "      <td>2024-07-10 00:00:00</td>\n",
       "      <td>105.1</td>\n",
       "      <td>368</td>\n",
       "    </tr>\n",
       "    <tr>\n",
       "      <th>4</th>\n",
       "      <td>2024-07-03 00:00:00</td>\n",
       "      <td>108.4</td>\n",
       "      <td>386</td>\n",
       "    </tr>\n",
       "    <tr>\n",
       "      <th>...</th>\n",
       "      <td>...</td>\n",
       "      <td>...</td>\n",
       "      <td>...</td>\n",
       "    </tr>\n",
       "    <tr>\n",
       "      <th>113</th>\n",
       "      <td>2022-05-31 00:00:00</td>\n",
       "      <td>112</td>\n",
       "      <td>388</td>\n",
       "    </tr>\n",
       "    <tr>\n",
       "      <th>114</th>\n",
       "      <td>2022-05-24 00:00:00</td>\n",
       "      <td>112.3</td>\n",
       "      <td>402</td>\n",
       "    </tr>\n",
       "    <tr>\n",
       "      <th>115</th>\n",
       "      <td>2022-05-17 00:00:00</td>\n",
       "      <td>114.3</td>\n",
       "      <td>412</td>\n",
       "    </tr>\n",
       "    <tr>\n",
       "      <th>116</th>\n",
       "      <td>2022-05-10 00:00:00</td>\n",
       "      <td>115.3</td>\n",
       "      <td>414</td>\n",
       "    </tr>\n",
       "    <tr>\n",
       "      <th>117</th>\n",
       "      <td>2022-05-03 00:00:00</td>\n",
       "      <td>116.3</td>\n",
       "      <td>439</td>\n",
       "    </tr>\n",
       "  </tbody>\n",
       "</table>\n",
       "<p>118 rows × 3 columns</p>\n",
       "</div>"
      ],
      "text/plain": [
       "                    Date  Stock Weekly Production\n",
       "0    2024-07-31 00:00:00  106.1               363\n",
       "1    2024-07-24 00:00:00  106.1               365\n",
       "2    2024-07-17 00:00:00  105.2               364\n",
       "3    2024-07-10 00:00:00  105.1               368\n",
       "4    2024-07-03 00:00:00  108.4               386\n",
       "..                   ...    ...               ...\n",
       "113  2022-05-31 00:00:00    112               388\n",
       "114  2022-05-24 00:00:00  112.3               402\n",
       "115  2022-05-17 00:00:00  114.3               412\n",
       "116  2022-05-10 00:00:00  115.3               414\n",
       "117  2022-05-03 00:00:00  116.3               439\n",
       "\n",
       "[118 rows x 3 columns]"
      ]
     },
     "execution_count": 23,
     "metadata": {},
     "output_type": "execute_result"
    }
   ],
   "source": [
    "df"
   ]
  },
  {
   "cell_type": "code",
   "execution_count": null,
   "id": "d01bf8ec-5ada-4736-a6b2-d514a8ac6066",
   "metadata": {},
   "outputs": [],
   "source": []
  },
  {
   "cell_type": "code",
   "execution_count": null,
   "id": "879e0fe3-d249-44d8-be6c-99d87bd8b8f2",
   "metadata": {},
   "outputs": [],
   "source": []
  },
  {
   "cell_type": "markdown",
   "id": "57ad6bb5-bb74-4e7b-8629-bb9eb4accd84",
   "metadata": {
    "panel-layout": {
     "height": 23.80681610107422,
     "visible": true,
     "width": 100
    }
   },
   "source": [
    "***"
   ]
  },
  {
   "cell_type": "markdown",
   "id": "9286d530-6ee5-4fb4-8b5a-92eb53e9b149",
   "metadata": {
    "panel-layout": {
     "height": 50.82386016845703,
     "visible": true,
     "width": 100
    }
   },
   "source": [
    "## 2. 然后，对各个字段的基础统计学信息进行了解和探索。包括但不限于："
   ]
  },
  {
   "cell_type": "markdown",
   "id": "d3adeaad-adf0-4c3f-b6aa-a0bd2ea1d4d2",
   "metadata": {
    "panel-layout": {
     "height": 124.4957275390625,
     "visible": true,
     "width": 100
    }
   },
   "source": [
    "### 1. 基础了解\n",
    "基础了解：\n",
    "   * **数据结构**（字段类型、行数、列数）\n",
    "   * **时间跨度**（数据覆盖的时间范围）"
   ]
  },
  {
   "cell_type": "code",
   "execution_count": 24,
   "id": "bf8a0bbd-d850-479e-82dd-1f172a4f9c40",
   "metadata": {
    "editable": true,
    "slideshow": {
     "slide_type": ""
    },
    "tags": []
   },
   "outputs": [],
   "source": [
    "# 将 Date 转换为 datetime 类型\n",
    "df[\"Date\"] = pd.to_datetime(df[\"Date\"])"
   ]
  },
  {
   "cell_type": "code",
   "execution_count": 25,
   "id": "c8f98289-e914-4b5a-b219-fd45023bfe29",
   "metadata": {
    "panel-layout": {
     "height": 0,
     "visible": true,
     "width": 100
    }
   },
   "outputs": [
    {
     "name": "stdout",
     "output_type": "stream",
     "text": [
      "<class 'pandas.core.frame.DataFrame'>\n",
      "RangeIndex: 118 entries, 0 to 117\n",
      "Data columns (total 3 columns):\n",
      " #   Column             Non-Null Count  Dtype         \n",
      "---  ------             --------------  -----         \n",
      " 0   Date               118 non-null    datetime64[ns]\n",
      " 1   Stock              118 non-null    object        \n",
      " 2   Weekly Production  118 non-null    object        \n",
      "dtypes: datetime64[ns](1), object(2)\n",
      "memory usage: 2.9+ KB\n"
     ]
    }
   ],
   "source": [
    "# 获取数据结构信息\n",
    "data_info = df.info()\n",
    "data_info"
   ]
  },
  {
   "cell_type": "markdown",
   "id": "5e1274dd-ff0a-44fb-bb29-d38bb7c55138",
   "metadata": {
    "panel-layout": {
     "height": 85.42613220214844,
     "visible": true,
     "width": 100
    }
   },
   "source": [
    "* Date: 时间数据 (datetime64[ns])\n",
    "* Stock: 浮点数 (float64)\n",
    "* Weekly Production: 整数 (int64)"
   ]
  },
  {
   "cell_type": "code",
   "execution_count": null,
   "id": "28cafc77-09c8-42bd-9af8-9cc7c8b89f07",
   "metadata": {},
   "outputs": [],
   "source": []
  },
  {
   "cell_type": "code",
   "execution_count": 28,
   "id": "c66fd5ec-25e4-41b3-b639-96572548d583",
   "metadata": {
    "panel-layout": {
     "height": 27.144886016845703,
     "visible": true,
     "width": 100
    }
   },
   "outputs": [
    {
     "data": {
      "text/plain": [
       "(118, 3)"
      ]
     },
     "execution_count": 28,
     "metadata": {},
     "output_type": "execute_result"
    }
   ],
   "source": [
    "# 计算数据行数和列数\n",
    "num_rows, num_cols = df.shape\n",
    "num_rows, num_cols"
   ]
  },
  {
   "cell_type": "markdown",
   "id": "e2af10bc-7d22-4b5a-849c-19506c5ae0e9",
   "metadata": {
    "panel-layout": {
     "height": 68.28125,
     "visible": true,
     "width": 100
    }
   },
   "source": [
    "* 数据总行数: 3\n",
    "* 数据总列数: 3"
   ]
  },
  {
   "cell_type": "code",
   "execution_count": null,
   "id": "a9ca2d5e-a3e5-4b5c-a610-77b0d7826af6",
   "metadata": {},
   "outputs": [],
   "source": []
  },
  {
   "cell_type": "code",
   "execution_count": 27,
   "id": "6b4d393a-249e-451d-a7f8-30a84ce5d539",
   "metadata": {
    "panel-layout": {
     "height": 27.144886016845703,
     "visible": true,
     "width": 100
    }
   },
   "outputs": [
    {
     "data": {
      "text/plain": [
       "(Timestamp('2022-05-03 00:00:00'), Timestamp('2024-07-31 00:00:00'))"
      ]
     },
     "execution_count": 27,
     "metadata": {},
     "output_type": "execute_result"
    }
   ],
   "source": [
    "# 计算时间跨度\n",
    "date_range = (df[\"Date\"].min(), df[\"Date\"].max())\n",
    "date_range"
   ]
  },
  {
   "cell_type": "markdown",
   "id": "83059ec7-21f9-4b02-89a6-bcca59ac4a2e",
   "metadata": {
    "panel-layout": {
     "height": 97.42186737060547,
     "visible": true,
     "width": 100
    }
   },
   "source": [
    "时间跨度：\n",
    "* 起始日期: 2024-07-17\n",
    "* 结束日期: 2024-07-31"
   ]
  },
  {
   "cell_type": "code",
   "execution_count": null,
   "id": "8d9a2a4c-518f-4bd1-a34b-b7799c8e5913",
   "metadata": {},
   "outputs": [],
   "source": []
  },
  {
   "cell_type": "markdown",
   "id": "32759bb2-c9fc-491c-9b3d-16f5351c7265",
   "metadata": {
    "panel-layout": {
     "height": 23.80681610107422,
     "visible": true,
     "width": 100
    }
   },
   "source": [
    "***"
   ]
  },
  {
   "cell_type": "markdown",
   "id": "8e6727b5-3a2a-428b-abd9-b2608a15fc49",
   "metadata": {
    "panel-layout": {
     "height": 141.640625,
     "visible": true,
     "width": 100
    }
   },
   "source": [
    "### 2. 关键统计指标\n",
    "\n",
    "关键统计指标：\n",
    "   1. **库存量的均值、中位数、最大值、最小值、异常值**，并考虑处理\n",
    "   2. **周度产量的均值、中位数、最大值、最小值、异常值**，并考虑处理\n",
    "   3. **库存量和产量的变异性（标准差、变异系数）**"
   ]
  },
  {
   "cell_type": "code",
   "execution_count": 30,
   "id": "d3fba215-fe4b-4720-9463-055eb1b000c1",
   "metadata": {},
   "outputs": [],
   "source": [
    "# 计算库存量的关键统计指标\n",
    "stock_mean = df[\"Stock\"].mean()\n",
    "stock_median = df[\"Stock\"].median()\n",
    "stock_max = df[\"Stock\"].max()\n",
    "stock_min = df[\"Stock\"].min()\n",
    "stock_std = df[\"Stock\"].std()\n",
    "stock_cv = stock_std / stock_mean  # 变异系数\n",
    "\n",
    "# 计算周度产量的关键统计指标\n",
    "production_mean = df[\"Weekly Production\"].mean()\n",
    "production_median = df[\"Weekly Production\"].median()\n",
    "production_max = df[\"Weekly Production\"].max()\n",
    "production_min = df[\"Weekly Production\"].min()\n",
    "production_std = df[\"Weekly Production\"].std()\n",
    "production_cv = production_std / production_mean  # 变异系数\n",
    "\n",
    "# 使用IQR（四分位距）方法检测异常值\n",
    "def detect_outliers(series):\n",
    "    Q1 = series.quantile(0.25)\n",
    "    Q3 = series.quantile(0.75)\n",
    "    IQR = Q3 - Q1\n",
    "    lower_bound = Q1 - 1.5 * IQR\n",
    "    upper_bound = Q3 + 1.5 * IQR\n",
    "    return series[(series < lower_bound) | (series > upper_bound)]\n",
    "\n",
    "stock_outliers = detect_outliers(df[\"Stock\"])\n",
    "production_outliers = detect_outliers(df[\"Weekly Production\"])"
   ]
  },
  {
   "cell_type": "code",
   "execution_count": 31,
   "id": "91c8eec2-694d-448a-a9d7-6c14fc56c3f4",
   "metadata": {
    "panel-layout": {
     "height": 0,
     "visible": true,
     "width": 100
    },
    "scrolled": true
   },
   "outputs": [
    {
     "name": "stdout",
     "output_type": "stream",
     "text": [
      "库存量的均值（Mean）：118.62 万吨\n",
      "库存量的中位数（Median）：118.05 万吨\n",
      "库存量的最大值（Max）：134.00 万吨\n",
      "库存量的最小值（Min）：102.80 万吨\n",
      "库存量的标准差（Std Dev）：6.45 万吨\n",
      "库存量的变异系数（CV）：0.054368\n",
      "库存量的异常值（Outliers）：[]\n",
      "周度产量的均值（Mean）：416.36 万吨\n",
      "周度产量的中位数（Median）：412.50 万吨\n",
      "周度产量的最大值（Max）：478 万吨\n",
      "周度产量的最小值（Min）：346 万吨\n",
      "周度产量的标准差（Std Dev）：27.21 万吨\n",
      "周度产量的变异系数（CV）：0.065360\n",
      "周度产量的异常值（Outliers）：[346]\n"
     ]
    }
   ],
   "source": [
    "print(f\"库存量的均值（Mean）：{stock_mean:.2f} 万吨\")\n",
    "print(f\"库存量的中位数（Median）：{stock_median:.2f} 万吨\")\n",
    "print(f\"库存量的最大值（Max）：{stock_max:.2f} 万吨\")\n",
    "print(f\"库存量的最小值（Min）：{stock_min:.2f} 万吨\")\n",
    "print(f\"库存量的标准差（Std Dev）：{stock_std:.2f} 万吨\")\n",
    "print(f\"库存量的变异系数（CV）：{stock_cv:.6f}\")\n",
    "print(f\"库存量的异常值（Outliers）：{stock_outliers.tolist()}\")\n",
    "\n",
    "print(f\"周度产量的均值（Mean）：{production_mean:.2f} 万吨\")\n",
    "print(f\"周度产量的中位数（Median）：{production_median:.2f} 万吨\")\n",
    "print(f\"周度产量的最大值（Max）：{production_max} 万吨\")\n",
    "print(f\"周度产量的最小值（Min）：{production_min} 万吨\")\n",
    "print(f\"周度产量的标准差（Std Dev）：{production_std:.2f} 万吨\")\n",
    "print(f\"周度产量的变异系数（CV）：{production_cv:.6f}\")\n",
    "print(f\"周度产量的异常值（Outliers）：{production_outliers.tolist()}\")"
   ]
  },
  {
   "cell_type": "markdown",
   "id": "ccc4eb77-884c-4b03-b499-b741d8965a0a",
   "metadata": {
    "panel-layout": {
     "height": 80.27698516845703,
     "visible": true,
     "width": 100
    }
   },
   "source": [
    "从结果可以看出，对于周度产量的异常值（Outliers）：[346]。346 万吨的产量比正常值要低，可能是突发事件导致的异常。\n",
    "\n",
    "在进行后续的趋势和相关性分析的时候，可以考虑用平均值来替代它。"
   ]
  },
  {
   "cell_type": "code",
   "execution_count": 32,
   "id": "41febc42-273e-4346-8478-c3245586f1f4",
   "metadata": {
    "panel-layout": {
     "height": 0,
     "visible": true,
     "width": 100
    }
   },
   "outputs": [
    {
     "name": "stdout",
     "output_type": "stream",
     "text": [
      "使用均值 416.96 替换了异常值 346\n",
      "         Date  Stock Weekly Production\n",
      "24 2024-02-14  109.2        416.957265\n"
     ]
    }
   ],
   "source": [
    "# 计算去除异常值之后的均值\n",
    "valid_production = df[\"Weekly Production\"][df[\"Weekly Production\"] != 346]\n",
    "production_mean_no_outliers = valid_production.mean()\n",
    "\n",
    "# 用平均值替换异常值\n",
    "df.loc[df[\"Weekly Production\"] == 346, \"Weekly Production\"] = production_mean_no_outliers\n",
    "\n",
    "print(f\"使用均值 {production_mean_no_outliers:.2f} 替换异常值 346\")\n",
    "print(df[df[\"Weekly Production\"] == production_mean_no_outliers])"
   ]
  },
  {
   "cell_type": "code",
   "execution_count": null,
   "id": "341e6f72-0133-4078-88c8-2b0042ff3300",
   "metadata": {},
   "outputs": [],
   "source": []
  },
  {
   "cell_type": "code",
   "execution_count": 35,
   "id": "d91fdf9b-c394-4482-a8db-2ec1fb512574",
   "metadata": {
    "panel-layout": {
     "height": 0,
     "visible": true,
     "width": 100
    }
   },
   "outputs": [
    {
     "name": "stdout",
     "output_type": "stream",
     "text": [
      "库存量的均值（Mean）：118.62 万吨\n",
      "库存量的中位数（Median）：118.05 万吨\n",
      "库存量的最大值（Max）：134.00 万吨\n",
      "库存量的最小值（Min）：102.80 万吨\n",
      "库存量的标准差（Std Dev）：6.45 万吨\n",
      "库存量的变异系数（CV）：0.054368\n",
      "库存量的异常值（Outliers）：[]\n",
      "周度产量的均值（Mean）：416.96 万吨\n",
      "周度产量的中位数（Median）：413.00 万吨\n",
      "周度产量的最大值（Max）：478 万吨\n",
      "周度产量的最小值（Min）：363 万吨\n",
      "周度产量的标准差（Std Dev）：26.42 万吨\n",
      "周度产量的变异系数（CV）：0.063357\n",
      "周度产量的异常值（Outliers）：[]\n"
     ]
    }
   ],
   "source": [
    "# 更新后结果输出\n",
    "\n",
    "# 计算库存量的关键统计指标\n",
    "stock_mean = df[\"Stock\"].mean()\n",
    "stock_median = df[\"Stock\"].median()\n",
    "stock_max = df[\"Stock\"].max()\n",
    "stock_min = df[\"Stock\"].min()\n",
    "stock_std = df[\"Stock\"].std()\n",
    "stock_cv = stock_std / stock_mean  # 变异系数\n",
    "\n",
    "# 计算周度产量的关键统计指标\n",
    "production_mean = df[\"Weekly Production\"].mean()\n",
    "production_median = df[\"Weekly Production\"].median()\n",
    "production_max = df[\"Weekly Production\"].max()\n",
    "production_min = df[\"Weekly Production\"].min()\n",
    "production_std = df[\"Weekly Production\"].std()\n",
    "production_cv = production_std / production_mean  # 变异系数\n",
    "\n",
    "# 使用IQR（四分位距）方法检测异常值\n",
    "def detect_outliers(series):\n",
    "    Q1 = series.quantile(0.25)\n",
    "    Q3 = series.quantile(0.75)\n",
    "    IQR = Q3 - Q1\n",
    "    lower_bound = Q1 - 1.5 * IQR\n",
    "    upper_bound = Q3 + 1.5 * IQR\n",
    "    return series[(series < lower_bound) | (series > upper_bound)]\n",
    "\n",
    "stock_outliers = detect_outliers(df[\"Stock\"])\n",
    "production_outliers = detect_outliers(df[\"Weekly Production\"])\n",
    "\n",
    "\n",
    "print(f\"库存量的均值（Mean）：{stock_mean:.2f} 万吨\")\n",
    "print(f\"库存量的中位数（Median）：{stock_median:.2f} 万吨\")\n",
    "print(f\"库存量的最大值（Max）：{stock_max:.2f} 万吨\")\n",
    "print(f\"库存量的最小值（Min）：{stock_min:.2f} 万吨\")\n",
    "print(f\"库存量的标准差（Std Dev）：{stock_std:.2f} 万吨\")\n",
    "print(f\"库存量的变异系数（CV）：{stock_cv:.6f}\")\n",
    "print(f\"库存量的异常值（Outliers）：{stock_outliers.tolist()}\")\n",
    "\n",
    "print(f\"周度产量的均值（Mean）：{production_mean:.2f} 万吨\")\n",
    "print(f\"周度产量的中位数（Median）：{production_median:.2f} 万吨\")\n",
    "print(f\"周度产量的最大值（Max）：{production_max} 万吨\")\n",
    "print(f\"周度产量的最小值（Min）：{production_min} 万吨\")\n",
    "print(f\"周度产量的标准差（Std Dev）：{production_std:.2f} 万吨\")\n",
    "print(f\"周度产量的变异系数（CV）：{production_cv:.6f}\")\n",
    "print(f\"周度产量的异常值（Outliers）：{production_outliers.tolist()}\")"
   ]
  },
  {
   "cell_type": "code",
   "execution_count": null,
   "id": "8d33f657-48be-494f-935d-113349efd55b",
   "metadata": {},
   "outputs": [],
   "source": []
  },
  {
   "cell_type": "markdown",
   "id": "5d4b4966-e1aa-4c36-b30f-872f9fa03611",
   "metadata": {
    "panel-layout": {
     "height": 23.80681610107422,
     "visible": true,
     "width": 100
    }
   },
   "source": [
    "***"
   ]
  },
  {
   "cell_type": "markdown",
   "id": "3c1a0ac8-f68c-4643-839a-99bbb60f795d",
   "metadata": {
    "panel-layout": {
     "height": 141.640625,
     "visible": true,
     "width": 100
    }
   },
   "source": [
    "### 3. 数据趋势分析\n",
    "**数据趋势分析**。通过图形得到各个字段之间的关系趋势，如：\n",
    "   * **库存量的趋势**（是上升还是下降？有无季节性？）\n",
    "   * **周度产量的变化趋势**（是否存在周期性？）\n",
    "   * **库存量和周度产量的关系** *（在后面详细分析）*"
   ]
  },
  {
   "cell_type": "code",
   "execution_count": 38,
   "id": "8fbf0d80-2d9e-4ef1-9b48-5941fc4b0213",
   "metadata": {},
   "outputs": [],
   "source": [
    "# 确保按照日期排序\n",
    "df = df.sort_values(\"Date\")"
   ]
  },
  {
   "cell_type": "code",
   "execution_count": 48,
   "id": "b75cc01f-7205-440a-b67b-0bc8e474a062",
   "metadata": {
    "panel-layout": {
     "height": 3438.92041015625,
     "visible": true,
     "width": 100
    }
   },
   "outputs": [
    {
     "data": {
      "text/html": [
       "<div>\n",
       "<style scoped>\n",
       "    .dataframe tbody tr th:only-of-type {\n",
       "        vertical-align: middle;\n",
       "    }\n",
       "\n",
       "    .dataframe tbody tr th {\n",
       "        vertical-align: top;\n",
       "    }\n",
       "\n",
       "    .dataframe thead th {\n",
       "        text-align: right;\n",
       "    }\n",
       "</style>\n",
       "<table border=\"1\" class=\"dataframe\">\n",
       "  <thead>\n",
       "    <tr style=\"text-align: right;\">\n",
       "      <th></th>\n",
       "      <th>Date</th>\n",
       "      <th>Stock</th>\n",
       "      <th>Weekly Production</th>\n",
       "    </tr>\n",
       "  </thead>\n",
       "  <tbody>\n",
       "    <tr>\n",
       "      <th>117</th>\n",
       "      <td>2022-05-03</td>\n",
       "      <td>116.3</td>\n",
       "      <td>439</td>\n",
       "    </tr>\n",
       "    <tr>\n",
       "      <th>116</th>\n",
       "      <td>2022-05-10</td>\n",
       "      <td>115.3</td>\n",
       "      <td>414</td>\n",
       "    </tr>\n",
       "    <tr>\n",
       "      <th>115</th>\n",
       "      <td>2022-05-17</td>\n",
       "      <td>114.3</td>\n",
       "      <td>412</td>\n",
       "    </tr>\n",
       "    <tr>\n",
       "      <th>114</th>\n",
       "      <td>2022-05-24</td>\n",
       "      <td>112.3</td>\n",
       "      <td>402</td>\n",
       "    </tr>\n",
       "    <tr>\n",
       "      <th>113</th>\n",
       "      <td>2022-05-31</td>\n",
       "      <td>112</td>\n",
       "      <td>388</td>\n",
       "    </tr>\n",
       "    <tr>\n",
       "      <th>...</th>\n",
       "      <td>...</td>\n",
       "      <td>...</td>\n",
       "      <td>...</td>\n",
       "    </tr>\n",
       "    <tr>\n",
       "      <th>4</th>\n",
       "      <td>2024-07-03</td>\n",
       "      <td>108.4</td>\n",
       "      <td>386</td>\n",
       "    </tr>\n",
       "    <tr>\n",
       "      <th>3</th>\n",
       "      <td>2024-07-10</td>\n",
       "      <td>105.1</td>\n",
       "      <td>368</td>\n",
       "    </tr>\n",
       "    <tr>\n",
       "      <th>2</th>\n",
       "      <td>2024-07-17</td>\n",
       "      <td>105.2</td>\n",
       "      <td>364</td>\n",
       "    </tr>\n",
       "    <tr>\n",
       "      <th>1</th>\n",
       "      <td>2024-07-24</td>\n",
       "      <td>106.1</td>\n",
       "      <td>365</td>\n",
       "    </tr>\n",
       "    <tr>\n",
       "      <th>0</th>\n",
       "      <td>2024-07-31</td>\n",
       "      <td>106.1</td>\n",
       "      <td>363</td>\n",
       "    </tr>\n",
       "  </tbody>\n",
       "</table>\n",
       "<p>118 rows × 3 columns</p>\n",
       "</div>"
      ],
      "text/plain": [
       "          Date  Stock Weekly Production\n",
       "117 2022-05-03  116.3               439\n",
       "116 2022-05-10  115.3               414\n",
       "115 2022-05-17  114.3               412\n",
       "114 2022-05-24  112.3               402\n",
       "113 2022-05-31    112               388\n",
       "..         ...    ...               ...\n",
       "4   2024-07-03  108.4               386\n",
       "3   2024-07-10  105.1               368\n",
       "2   2024-07-17  105.2               364\n",
       "1   2024-07-24  106.1               365\n",
       "0   2024-07-31  106.1               363\n",
       "\n",
       "[118 rows x 3 columns]"
      ]
     },
     "execution_count": 48,
     "metadata": {},
     "output_type": "execute_result"
    }
   ],
   "source": [
    "df"
   ]
  },
  {
   "cell_type": "code",
   "execution_count": 56,
   "id": "5abf235d-2603-4f3a-995d-61311647e425",
   "metadata": {
    "panel-layout": {
     "height": 730,
     "visible": true,
     "width": 100
    }
   },
   "outputs": [
    {
     "data": {
      "image/png": "[encoded data removed]",
      "text/plain": [
       "<Figure size 1200x500 with 1 Axes>"
      ]
     },
     "metadata": {},
     "output_type": "display_data"
    }
   ],
   "source": [
    "plt.figure(figsize=(12, 5))\n",
    "plt.plot(df[\"Date\"], df[\"Stock\"], marker='o', linestyle='-', label=\"Stock (10k tons)\")\n",
    "\n",
    "plt.xlabel(\"Date\")\n",
    "plt.ylabel(\"Stock (10k tons)\")\n",
    "plt.title(\"Stock Trends\")\n",
    "plt.xticks(rotation=45)\n",
    "\n",
    "ax = plt.gca()\n",
    "ax.xaxis.set_major_locator(mdates.DayLocator(interval=30))\n",
    "ax.xaxis.set_major_formatter(mdates.DateFormatter(\"%Y-%m-%d\"))\n",
    "\n",
    "plt.legend()\n",
    "plt.grid()\n",
    "plt.show()"
   ]
  },
  {
   "cell_type": "markdown",
   "id": "4dab9303-d1dc-4842-9e7e-9af785d71866",
   "metadata": {
    "panel-layout": {
     "height": 201.98863220214844,
     "visible": true,
     "width": 100
    }
   },
   "source": [
    "1. **总体趋势**\n",
    "\n",
    "* 短期波动明显：总体表现出明显的短期波动，可能受市场需求、季节性因素或政策等方面的影响。\n",
    "* 长期下降趋势：尽管存在波动，但整体库存量在2022年至2024年间呈下降趋势。\n",
    "\n",
    "2. **季节性影响**\n",
    "\n",
    "* 周期性高点：库存量大多在年底达到高峰，如2022年12月和2023年12月，可能与年底这段生产周期或市场需求相关。\n",
    "* 周期性低点：库存量往往在年中达到低谷，如2022年7月和2023年7月，可能与季节性需求下降有关。\n",
    "\n",
    "3. **其它**"
   ]
  },
  {
   "cell_type": "code",
   "execution_count": null,
   "id": "00dff70c-51a3-4f02-8d7f-7696569c9256",
   "metadata": {},
   "outputs": [],
   "source": []
  },
  {
   "cell_type": "code",
   "execution_count": 59,
   "id": "24e83b74-9a8b-48de-8bb6-327ae0bafc0b",
   "metadata": {
    "panel-layout": {
     "height": 730,
     "visible": true,
     "width": 100
    }
   },
   "outputs": [
    {
     "data": {
      "image/png": "[encoded data removed]",
      "text/plain": [
       "<Figure size 1200x500 with 1 Axes>"
      ]
     },
     "metadata": {},
     "output_type": "display_data"
    }
   ],
   "source": [
    "# 周度产量趋势\n",
    "plt.figure(figsize=(12, 5))\n",
    "plt.plot(df[\"Date\"], df[\"Weekly Production\"], marker='s', linestyle='-', label=\"Weekly Production (10k tons)\", color='orange')\n",
    "\n",
    "plt.xlabel(\"Date\")\n",
    "plt.ylabel(\"Weekly Production (10k tons)\")\n",
    "plt.title(\"Weekly Output Trend\")\n",
    "plt.xticks(rotation=45)\n",
    "plt.gca().xaxis.set_major_locator(mdates.WeekdayLocator(byweekday=mdates.MO, interval=5)) # 每隔5周\n",
    "plt.gca().xaxis.set_major_formatter(mdates.DateFormatter(\"%Y-%m-%d\"))  # 显示格式 \"YYYY-MM-DD\"\n",
    "\n",
    "plt.legend()\n",
    "plt.grid()\n",
    "plt.show()"
   ]
  },
  {
   "cell_type": "markdown",
   "id": "d5a190a9-9133-441b-972a-ad5e6b3aa33b",
   "metadata": {
    "panel-layout": {
     "height": 131.71163940429688,
     "visible": true,
     "width": 100
    }
   },
   "source": [
    "**总体趋势：**\n",
    "* 短期波动明显：产量在整个时间段内呈现周期性波动，可能受到季节性或市场需求的影响。\n",
    "* 长期呈现下降趋势：\n",
    "    * 2022-2023年：产量整体波动，但仍保持在 400-460 之间，没有出现大规模下降。\n",
    "\t* 2024年后：总体产量下滑，特别是 2024 年 3 月之后，下降至 360 附近，接近最低水平。"
   ]
  },
  {
   "cell_type": "code",
   "execution_count": null,
   "id": "0d0acee5-45dd-4b5e-b4ed-110c257e9714",
   "metadata": {},
   "outputs": [],
   "source": []
  },
  {
   "cell_type": "markdown",
   "id": "cda12263-565e-4c64-b046-fbe57b2a7edb",
   "metadata": {
    "panel-layout": {
     "height": 23.80681610107422,
     "visible": true,
     "width": 100
    }
   },
   "source": [
    "***"
   ]
  },
  {
   "cell_type": "markdown",
   "id": "921b7e2a-f5f1-476e-819e-c87b8c98e166",
   "metadata": {
    "panel-layout": {
     "height": 50.82386016845703,
     "visible": true,
     "width": 100
    }
   },
   "source": [
    "## 3. 对其中的相关性进行具体的分析"
   ]
  },
  {
   "cell_type": "markdown",
   "id": "53729671-226b-43d4-9de0-6c2f3a5dc26f",
   "metadata": {
    "panel-layout": {
     "height": 44.09090805053711,
     "visible": true,
     "width": 100
    }
   },
   "source": [
    "### 1. 时间序列趋势图"
   ]
  },
  {
   "cell_type": "code",
   "execution_count": 60,
   "id": "db22590b-f2a1-411b-aa29-a2abd29aa93d",
   "metadata": {
    "panel-layout": {
     "height": 873.99853515625,
     "visible": true,
     "width": 100
    }
   },
   "outputs": [
    {
     "data": {
      "image/png": "[encoded data removed]",
      "text/plain": [
       "<Figure size 1200x600 with 2 Axes>"
      ]
     },
     "metadata": {},
     "output_type": "display_data"
    }
   ],
   "source": [
    "# 创建双轴图表\n",
    "fig, ax1 = plt.subplots(figsize=(12, 6))\n",
    "\n",
    "# 绘制库存量（左侧 Y 轴）\n",
    "ax1.set_xlabel(\"Date\")\n",
    "ax1.set_ylabel(\"Stock (10k tons)\", color=\"tab:blue\")\n",
    "ax1.plot(df[\"Date\"], df[\"Stock\"], marker=\"o\", linestyle=\"-\", color=\"tab:blue\", label=\"Stock\")\n",
    "ax1.tick_params(axis=\"y\", labelcolor=\"tab:blue\")\n",
    "\n",
    "# 创建右侧 Y 轴并绘制周度产量\n",
    "ax2 = ax1.twinx()\n",
    "ax2.set_ylabel(\"Weekly Production (10k tons)\", color=\"tab:orange\")\n",
    "ax2.plot(df[\"Date\"], df[\"Weekly Production\"], marker=\"s\", linestyle=\"--\", color=\"tab:orange\", label=\"Weekly Production\")\n",
    "ax2.tick_params(axis=\"y\", labelcolor=\"tab:orange\")\n",
    "\n",
    "fig.legend(loc=\"upper right\", bbox_to_anchor=(0.9, 0.9))\n",
    "\n",
    "plt.xticks(rotation=45)\n",
    "\n",
    "plt.title(\"Stock and Weekly Production Trends\")\n",
    "\n",
    "plt.show()"
   ]
  },
  {
   "cell_type": "markdown",
   "id": "2a6f4a62-8383-4201-a1a1-30dee8c22d8e",
   "metadata": {
    "panel-layout": {
     "height": 102.5710220336914,
     "visible": true,
     "width": 100
    }
   },
   "source": [
    "* 库存量和周度产量**整体上呈同步波动**，但产量的变化往往稍微领先于库存，说明库存的变化可能受到产量的直接影响。\n",
    "* 库存量和周产量之间可能具有一定正相关性。\n",
    "* ~~长期趋势：库存和产量均呈下降趋势。~~\n",
    "* ~~2024年库存和产量急剧下降，可能受市场需求、供应链问题或政策影响。~~"
   ]
  },
  {
   "cell_type": "markdown",
   "id": "e94aba6b-7acd-4c26-8375-0b2664cecaf4",
   "metadata": {
    "panel-layout": {
     "height": 44.09090805053711,
     "visible": true,
     "width": 100
    }
   },
   "source": [
    "### 2. 散点图"
   ]
  },
  {
   "cell_type": "code",
   "execution_count": 63,
   "id": "3fca5641-cea8-46f3-bce5-993cf8881bee",
   "metadata": {
    "panel-layout": {
     "height": 730,
     "visible": true,
     "width": 100
    }
   },
   "outputs": [
    {
     "data": {
      "image/png": "[encoded data removed]",
      "text/plain": [
       "<Figure size 800x500 with 1 Axes>"
      ]
     },
     "metadata": {},
     "output_type": "display_data"
    }
   ],
   "source": [
    "# 库存量与周产量的散点图\n",
    "plt.figure(figsize=(8, 5))\n",
    "sns.scatterplot(x=df[\"Stock\"], y=df[\"Weekly Production\"], color=\"blue\", marker=\"o\")\n",
    "\n",
    "plt.title(\"Scatter Plot of Stock vs Weekly Production\", fontsize=14)\n",
    "plt.xlabel(\"Stock\", fontsize=12)\n",
    "plt.ylabel(\"Weekly Production\", fontsize=12)\n",
    "\n",
    "plt.grid(True, linestyle=\"--\", alpha=0.6)\n",
    "\n",
    "plt.show()"
   ]
  },
  {
   "cell_type": "markdown",
   "id": "19f2268b-c9cf-4b02-9261-6bc39c7d41f4",
   "metadata": {
    "panel-layout": {
     "height": 68.28125,
     "visible": true,
     "width": 100
    }
   },
   "source": [
    "* 库存量和周产量没有形成完美的线性关系，但是总体呈现一定的正相关趋势。\n",
    "* 库存量和周产量可能不是简单的线性关系，而是受多种因素影响（如市场需求、政策因素等）。"
   ]
  },
  {
   "cell_type": "code",
   "execution_count": null,
   "id": "cdc5fda4-7598-46b4-8e2f-7befd4c7956a",
   "metadata": {},
   "outputs": [],
   "source": []
  },
  {
   "cell_type": "markdown",
   "id": "e0e545a0-23b1-4070-bb09-37c5454066aa",
   "metadata": {
    "panel-layout": {
     "height": 44.09090805053711,
     "visible": true,
     "width": 100
    }
   },
   "source": [
    "### 3. 计算相关性系数"
   ]
  },
  {
   "cell_type": "code",
   "execution_count": 68,
   "id": "07d9db04-683d-461a-a23c-88feaf8ad242",
   "metadata": {
    "panel-layout": {
     "height": 827.3295288085938,
     "visible": true,
     "width": 100
    }
   },
   "outputs": [
    {
     "data": {
      "text/html": [
       "<div>\n",
       "<style scoped>\n",
       "    .dataframe tbody tr th:only-of-type {\n",
       "        vertical-align: middle;\n",
       "    }\n",
       "\n",
       "    .dataframe tbody tr th {\n",
       "        vertical-align: top;\n",
       "    }\n",
       "\n",
       "    .dataframe thead th {\n",
       "        text-align: right;\n",
       "    }\n",
       "</style>\n",
       "<table border=\"1\" class=\"dataframe\">\n",
       "  <thead>\n",
       "    <tr style=\"text-align: right;\">\n",
       "      <th></th>\n",
       "      <th>Correlation Type</th>\n",
       "      <th>Correlation Coefficient</th>\n",
       "      <th>P-Value</th>\n",
       "    </tr>\n",
       "  </thead>\n",
       "  <tbody>\n",
       "    <tr>\n",
       "      <th>0</th>\n",
       "      <td>Pearson</td>\n",
       "      <td>0.468568</td>\n",
       "      <td>8.741815e-08</td>\n",
       "    </tr>\n",
       "    <tr>\n",
       "      <th>1</th>\n",
       "      <td>Spearman</td>\n",
       "      <td>0.409937</td>\n",
       "      <td>4.028198e-06</td>\n",
       "    </tr>\n",
       "  </tbody>\n",
       "</table>\n",
       "</div>"
      ],
      "text/plain": [
       "  Correlation Type  Correlation Coefficient       P-Value\n",
       "0          Pearson                 0.468568  8.741815e-08\n",
       "1         Spearman                 0.409937  4.028198e-06"
      ]
     },
     "execution_count": 68,
     "metadata": {},
     "output_type": "execute_result"
    }
   ],
   "source": [
    "# 皮尔逊相关系数\n",
    "pearson_corr, pearson_pval = pearsonr(df[\"Stock\"], df[\"Weekly Production\"])\n",
    "# 斯皮尔曼相关系数\n",
    "spearman_corr, spearman_pval = spearmanr(df[\"Stock\"], df[\"Weekly Production\"])\n",
    "\n",
    "correlation_results = pd.DataFrame({\n",
    "    \"Correlation Type\": [\"Pearson\", \"Spearman\"],\n",
    "    \"Correlation Coefficient\": [pearson_corr, spearman_corr],\n",
    "    \"P-Value\": [pearson_pval, spearman_pval]\n",
    "})\n",
    "correlation_results "
   ]
  },
  {
   "cell_type": "markdown",
   "id": "752df3ef-9a15-4e69-806f-efbfa0b398a0",
   "metadata": {
    "panel-layout": {
     "height": 248.27413940429688,
     "visible": true,
     "width": 100
    }
   },
   "source": [
    "1. **皮尔逊相关性分析**\n",
    "\n",
    "* 皮尔逊相关系数 r = 0.4686 表示 库存量和周产量之间有中等程度的正相关。\n",
    "* P 值 远小于 0.05，说明相关性具有统计显著性，即不是随机噪声导致的。\n",
    "* 说明库存量与周产量之间的影响关系可能还受到其它因素的影响。\n",
    "\n",
    "2. **斯皮尔曼相关性分析**\n",
    "\n",
    "* 斯皮尔曼相关系数 r_s = 0.4099 表示库存和周产量之间有中等程度的单调关系。\n",
    "* P 值远小于 0.05，说明库存和周产量的单调关系是统计显著的，不是偶然现象。\n",
    "\n",
    "3. **结论**\n",
    "\n",
    "库存量和周产量之间有一定程度的正相关，但关系并不是特别强，也可能受其他因素影响。"
   ]
  },
  {
   "cell_type": "code",
   "execution_count": null,
   "id": "b54aa99d-7f3f-4c44-bbfe-429b0b697c0c",
   "metadata": {},
   "outputs": [],
   "source": []
  },
  {
   "cell_type": "markdown",
   "id": "780365ab-b26d-484c-a201-8c7f38850c25",
   "metadata": {
    "panel-layout": {
     "height": 50.82386016845703,
     "visible": true,
     "width": 100
    }
   },
   "source": [
    "## 4. 对它们的因果性进行具体的分析"
   ]
  },
  {
   "cell_type": "markdown",
   "id": "dbc263cc-a197-4d28-b74f-0d7bf88b1eeb",
   "metadata": {
    "panel-layout": {
     "height": 51.13636016845703,
     "visible": true,
     "width": 100
    }
   },
   "source": [
    "**第 1 步：检查数据是否平稳**"
   ]
  },
  {
   "cell_type": "code",
   "execution_count": 70,
   "id": "b1aa129d-3ea2-40c8-9c7c-672bba86f53a",
   "metadata": {
    "panel-layout": {
     "height": 730,
     "visible": true,
     "width": 100
    }
   },
   "outputs": [
    {
     "name": "stdout",
     "output_type": "stream",
     "text": [
      "Stock - ADF Test:\n",
      "Test Statistic: -3.2988077476620785\n",
      "P-Value: 0.014931852392822109\n",
      "----------------------------------------\n",
      "Weekly Production - ADF Test:\n",
      "Test Statistic: -1.8823665173381157\n",
      "P-Value: 0.3404013810264769\n",
      "----------------------------------------\n"
     ]
    }
   ],
   "source": [
    "from statsmodels.tsa.stattools import adfuller\n",
    "\n",
    "def check_stationarity(series, name):\n",
    "    result = adfuller(series)\n",
    "    print(f\"{name} - ADF Test:\")\n",
    "    print(f\"Test Statistic: {result[0]}\")\n",
    "    print(f\"P-Value: {result[1]}\")\n",
    "    print(\"-\" * 40)\n",
    "\n",
    "check_stationarity(df[\"Stock\"], \"Stock\")\n",
    "check_stationarity(df[\"Weekly Production\"], \"Weekly Production\")"
   ]
  },
  {
   "cell_type": "markdown",
   "id": "d8ab3f23-6b65-4f0c-a55c-6ae00b6ff68c",
   "metadata": {
    "panel-layout": {
     "height": 136.20738220214844,
     "visible": true,
     "width": 100
    }
   },
   "source": [
    "结果分析：\n",
    "\n",
    "| 变量                         | ADF 统计量 | P 值   | 平稳性判断 |\n",
    "|-----------------------------|------------|--------|------------|\n",
    "| Stock（库存量）            | -3.2988    | 0.0149 | 平稳  |\n",
    "| Weekly Production（周产量） | -1.8824    | 0.3404 > 0.05 | 非平稳   |\n"
   ]
  },
  {
   "cell_type": "markdown",
   "id": "d9df9f92-738b-47bd-9a7e-4951bb31ad6c",
   "metadata": {
    "panel-layout": {
     "height": 68.28125,
     "visible": true,
     "width": 100
    }
   },
   "source": [
    "可以看到：Weekly Production（周产量）的P 值0.3404原大于0.05，说明这个特征的数据是不平稳的。所以需要对Weekly Production（周产量）数据进行差分处理。"
   ]
  },
  {
   "cell_type": "code",
   "execution_count": 71,
   "id": "8542b8b6-bdd3-4ecf-8fc1-8a70ad11c3b9",
   "metadata": {
    "panel-layout": {
     "height": 730,
     "visible": true,
     "width": 100
    }
   },
   "outputs": [
    {
     "name": "stdout",
     "output_type": "stream",
     "text": [
      "Weekly Production (Diff) - ADF Test:\n",
      "Test Statistic: -11.655719424559294\n",
      "P-Value: 1.9877356662530575e-21\n",
      "----------------------------------------\n"
     ]
    }
   ],
   "source": [
    "# 对非平稳的Weekly Production（周产量）进行处理\n",
    "df[\"Weekly_Production_Diff\"] = df[\"Weekly Production\"].diff()\n",
    "\n",
    "# 重新进行 ADF 检验\n",
    "check_stationarity(df[\"Weekly_Production_Diff\"].dropna(), \"Weekly Production (Diff)\")"
   ]
  },
  {
   "cell_type": "markdown",
   "id": "8d8d6bf1-9e14-466d-8626-2b62c22045af",
   "metadata": {
    "panel-layout": {
     "height": 51.13636016845703,
     "visible": true,
     "width": 100
    }
   },
   "source": [
    "可以看到，差分后的结果的数据是平稳的。"
   ]
  },
  {
   "cell_type": "code",
   "execution_count": null,
   "id": "e508269f-ece5-4ce8-9dc5-0004cc2a0c7f",
   "metadata": {},
   "outputs": [],
   "source": []
  },
  {
   "cell_type": "markdown",
   "id": "f95ca6bd-5a50-4c46-9468-784b2d68fdb5",
   "metadata": {
    "panel-layout": {
     "height": 51.13636016845703,
     "visible": true,
     "width": 100
    }
   },
   "source": [
    "**第 2 步：选择最佳的滞后期（Lag）**"
   ]
  },
  {
   "cell_type": "code",
   "execution_count": 77,
   "id": "55ceed45-031c-40cb-8e0a-a0db5793762b",
   "metadata": {
    "panel-layout": {
     "height": 730,
     "visible": true,
     "width": 100
    }
   },
   "outputs": [
    {
     "name": "stdout",
     "output_type": "stream",
     "text": [
      "Date                      datetime64[ns]\n",
      "Stock                            float64\n",
      "Weekly Production                float64\n",
      "Weekly_Production_Diff           float64\n",
      "dtype: object\n"
     ]
    },
    {
     "name": "stderr",
     "output_type": "stream",
     "text": [
      "/var/folders/qr/1hp7y80j3jx81qlcs3v3s3dr0000gn/T/ipykernel_56457/251222502.py:5: SettingWithCopyWarning: \n",
      "A value is trying to be set on a copy of a slice from a DataFrame.\n",
      "Try using .loc[row_indexer,col_indexer] = value instead\n",
      "\n",
      "See the caveats in the documentation: https://pandas.pydata.org/pandas-docs/stable/user_guide/indexing.html#returning-a-view-versus-a-copy\n",
      "  df[\"Stock\"] = pd.to_numeric(df[\"Stock\"], errors=\"coerce\")\n",
      "/var/folders/qr/1hp7y80j3jx81qlcs3v3s3dr0000gn/T/ipykernel_56457/251222502.py:6: SettingWithCopyWarning: \n",
      "A value is trying to be set on a copy of a slice from a DataFrame.\n",
      "Try using .loc[row_indexer,col_indexer] = value instead\n",
      "\n",
      "See the caveats in the documentation: https://pandas.pydata.org/pandas-docs/stable/user_guide/indexing.html#returning-a-view-versus-a-copy\n",
      "  df[\"Weekly Production\"] = pd.to_numeric(df[\"Weekly Production\"], errors=\"coerce\")\n",
      "/var/folders/qr/1hp7y80j3jx81qlcs3v3s3dr0000gn/T/ipykernel_56457/251222502.py:7: SettingWithCopyWarning: \n",
      "A value is trying to be set on a copy of a slice from a DataFrame.\n",
      "Try using .loc[row_indexer,col_indexer] = value instead\n",
      "\n",
      "See the caveats in the documentation: https://pandas.pydata.org/pandas-docs/stable/user_guide/indexing.html#returning-a-view-versus-a-copy\n",
      "  df[\"Weekly_Production_Diff\"] = pd.to_numeric(df[\"Weekly_Production_Diff\"], errors=\"coerce\")\n"
     ]
    }
   ],
   "source": [
    "df = df.dropna()\n",
    "\n",
    "# 转换为数值型\n",
    "df[\"Stock\"] = pd.to_numeric(df[\"Stock\"], errors=\"coerce\")\n",
    "df[\"Weekly Production\"] = pd.to_numeric(df[\"Weekly Production\"], errors=\"coerce\")\n",
    "df[\"Weekly_Production_Diff\"] = pd.to_numeric(df[\"Weekly_Production_Diff\"], errors=\"coerce\")\n",
    "\n",
    "print(df.dtypes)"
   ]
  },
  {
   "cell_type": "code",
   "execution_count": 78,
   "id": "956ebc33-1567-4ce7-a4d9-45414e55f482",
   "metadata": {
    "panel-layout": {
     "height": 730,
     "visible": true,
     "width": 100
    }
   },
   "outputs": [
    {
     "name": "stdout",
     "output_type": "stream",
     "text": [
      " VAR Order Selection (* highlights the minimums) \n",
      "=================================================\n",
      "      AIC         BIC         FPE         HQIC   \n",
      "-------------------------------------------------\n",
      "0       8.526       8.575       5046.       8.546\n",
      "1      7.589*      7.734*      1976.*      7.648*\n",
      "2       7.650       7.893       2101.       7.749\n",
      "3       7.611       7.950       2020.       7.748\n",
      "4       7.615       8.052       2030.       7.793\n",
      "5       7.667       8.201       2139.       7.884\n",
      "-------------------------------------------------\n"
     ]
    },
    {
     "name": "stderr",
     "output_type": "stream",
     "text": [
      "/Users/psych0/anaconda3/lib/python3.11/site-packages/statsmodels/tsa/base/tsa_model.py:473: ValueWarning: An unsupported index was provided and will be ignored when e.g. forecasting.\n",
      "  self._init_dates(dates, freq)\n"
     ]
    }
   ],
   "source": [
    "from statsmodels.tsa.api import VAR\n",
    "\n",
    "df_var = df[[\"Stock\", \"Weekly_Production_Diff\"]].dropna()\n",
    "\n",
    "# 选择最优滞后阶数（Lag）\n",
    "model = VAR(df_var)\n",
    "lag_order = model.select_order(maxlags=5)  # 设定最大滞后 5 周\n",
    "print(lag_order.summary())"
   ]
  },
  {
   "cell_type": "markdown",
   "id": "1968ec73-fd07-4332-8110-c92457cecd40",
   "metadata": {
    "panel-layout": {
     "height": 131.71163940429688,
     "visible": true,
     "width": 100
    }
   },
   "source": [
    "可以看出：最佳滞后阶数（Lag）= 1。因为：\n",
    "* AIC（计算模型的整体误差，考虑参数数量，越小越好） 最小（7.589）\n",
    "* BIC（类似 AIC，但对模型复杂度惩罚更大，越小越好） 最小（7.734）\n",
    "* FPE（直接衡量模型对新数据的预测误差，越小越好） 最小（1976）\n",
    "* HQIC（介于 AIC 和 BIC 之间，越小越好） 最小（7.648）"
   ]
  },
  {
   "cell_type": "code",
   "execution_count": null,
   "id": "86471acf-472d-4d7f-8624-8a8927f43572",
   "metadata": {},
   "outputs": [],
   "source": []
  },
  {
   "cell_type": "markdown",
   "id": "96450dcb-ba73-4283-a6ff-47a678545483",
   "metadata": {
    "panel-layout": {
     "height": 51.13636016845703,
     "visible": true,
     "width": 100
    }
   },
   "source": [
    "**第 3 步：训练 VAR 模型**"
   ]
  },
  {
   "cell_type": "code",
   "execution_count": 79,
   "id": "bcc4c681-3ea7-4d34-a48e-f7f801b890e1",
   "metadata": {
    "panel-layout": {
     "height": 730,
     "visible": true,
     "width": 100
    }
   },
   "outputs": [
    {
     "name": "stdout",
     "output_type": "stream",
     "text": [
      "  Summary of Regression Results   \n",
      "==================================\n",
      "Model:                         VAR\n",
      "Method:                        OLS\n",
      "Date:           Thu, 06, Mar, 2025\n",
      "Time:                     11:48:35\n",
      "--------------------------------------------------------------------\n",
      "No. of Equations:         2.00000    BIC:                    7.68638\n",
      "Nobs:                     116.000    HQIC:                   7.60177\n",
      "Log likelihood:          -760.743    FPE:                    1889.33\n",
      "AIC:                      7.54395    Det(Omega_mle):         1795.27\n",
      "--------------------------------------------------------------------\n",
      "Results for equation Stock\n",
      "============================================================================================\n",
      "                               coefficient       std. error           t-stat            prob\n",
      "--------------------------------------------------------------------------------------------\n",
      "const                            22.652903         6.814703            3.324           0.001\n",
      "L1.Stock                          0.808742         0.057295           14.116           0.000\n",
      "L1.Weekly_Production_Diff         0.031331         0.033360            0.939           0.348\n",
      "============================================================================================\n",
      "\n",
      "Results for equation Weekly_Production_Diff\n",
      "============================================================================================\n",
      "                               coefficient       std. error           t-stat            prob\n",
      "--------------------------------------------------------------------------------------------\n",
      "const                           -11.103994        18.754223           -0.592           0.554\n",
      "L1.Stock                          0.089437         0.157676            0.567           0.571\n",
      "L1.Weekly_Production_Diff        -0.068170         0.091808           -0.743           0.458\n",
      "============================================================================================\n",
      "\n",
      "Correlation matrix of residuals\n",
      "                             Stock  Weekly_Production_Diff\n",
      "Stock                     1.000000                0.011234\n",
      "Weekly_Production_Diff    0.011234                1.000000\n",
      "\n",
      "\n",
      "\n"
     ]
    },
    {
     "name": "stderr",
     "output_type": "stream",
     "text": [
      "/Users/psych0/anaconda3/lib/python3.11/site-packages/statsmodels/tsa/base/tsa_model.py:473: ValueWarning: An unsupported index was provided and will be ignored when e.g. forecasting.\n",
      "  self._init_dates(dates, freq)\n"
     ]
    }
   ],
   "source": [
    "# 训练 VAR 模型\n",
    "var_model = VAR(df_var)\n",
    "var_results = var_model.fit(1)  # 使用 lag = 1\n",
    "print(var_results.summary())"
   ]
  },
  {
   "cell_type": "markdown",
   "id": "7f2c9db9-ae5d-4d25-bda0-a75fc5bf9b2a",
   "metadata": {
    "editable": true,
    "panel-layout": {
     "height": 718.6576538085938,
     "visible": true,
     "width": 100
    },
    "slideshow": {
     "slide_type": ""
    },
    "tags": []
   },
   "source": [
    "**结果简单分析：**\n",
    "\n",
    "***\n",
    "\n",
    "### Part I: Summary Results分析\n",
    "\n",
    "```\n",
    "--------------------------------------------------------------------\n",
    "No. of Equations:         2.00000    BIC:                    7.68638\n",
    "Nobs:                     116.000    HQIC:                   7.60177\n",
    "Log likelihood:          -760.743    FPE:                    1889.33\n",
    "AIC:                      7.54395    Det(Omega_mle):         1795.27\n",
    "```\n",
    "\n",
    "从结果可以看出：\n",
    "\n",
    "* Nobs（样本数）为116，数据量相对适中，足够支撑 VAR 模型的估计，但样本量不算特别大。\n",
    "* Log likelihood（对数似然值）为 -760.743，说明表明模型仍有改进空间，可能是因为 VAR(1) 的滞后阶数较少，或者变量间的关系较弱。\n",
    "* AIC、BIC、FPE 均不算特别低，说明模型仍然有一定的误差和优化空间。\n",
    "* FPE（最终预测误差）较大，说明预测的误差仍然较高。\n",
    "\n",
    "***\n",
    "\n",
    "### Part II: Results for equation Stock分析\n",
    "\n",
    "```\n",
    "Results for equation Stock\n",
    "============================================================================================\n",
    "                               coefficient       std. error           t-stat            prob\n",
    "--------------------------------------------------------------------------------------------\n",
    "const                            22.652903         6.814703            3.324           0.001\n",
    "L1.Stock                          0.808742         0.057295           14.116           0.000\n",
    "L1.Weekly_Production_Diff         0.031331         0.033360            0.939           0.348\n",
    "============================================================================================\n",
    "```\n",
    "\n",
    "从结果可以看出库存量（Stock）方程可以表示为：\n",
    "Stock_t = 22.65 + 0.8087 \\cdot Stock_{t-1} + 0.0313 \\cdot Weekly_Production_Diff_{t-1}\n",
    "\n",
    "整理后的结果如下：\n",
    "\n",
    "\n",
    "| 变量                         | 系数（Coefficient） | 标准误差（Std. Error） | t 值（T-stat） | P 值（Prob） | 解释 |\n",
    "|-----------------------------|-------------------|---------------------|--------------|------------|------------------------------------------------|\n",
    "| 常数项（const）             | 22.65            | 6.81                | 3.32         | 0.001   | 显著，说明库存水平的长期均值偏高。              |\n",
    "| L1.Stock（滞后 1 期的库存量） | 0.8087           | 0.057               | 14.12        | 0.000   | 库存量受到自身过去值的强烈影响（影响最大）。    |\n",
    "| L1.Weekly_Production_Diff（滞后 1 期的周产量变化） | 0.0313 | 0.033 | 0.94 | 0.348 | 周产量的变化对库存的影响不显著。 |\n",
    "\n",
    "可以看出：\n",
    "\n",
    "* 库存量的主要影响因素是自己过去的值（P=0.000，系数=0.8087）。\n",
    "* 短期产量变化对库存量影响不大（P=0.348，不显著）。\n",
    "\n",
    "***\n",
    "\n",
    "### Part III: Results for equation Weekly_Production_Diff分析\n",
    "\n",
    "```\n",
    "Results for equation Weekly_Production_Diff\n",
    "============================================================================================\n",
    "                               coefficient       std. error           t-stat            prob\n",
    "--------------------------------------------------------------------------------------------\n",
    "const                           -11.103994        18.754223           -0.592           0.554\n",
    "L1.Stock                          0.089437         0.157676            0.567           0.571\n",
    "L1.Weekly_Production_Diff        -0.068170         0.091808           -0.743           0.458\n",
    "============================================================================================\n",
    "```\n",
    "\n",
    "从结果可以看出周产量变动（Weekly_Production_Diff）方程可以表示为：\n",
    "\\[\n",
    "Weekly\\Production\\Diff_t = -11.10 + 0.0894 \\cdot Stock{t-1} - 0.0681 \\cdot Weekly_Production_Diff{t-1}\n",
    "\\]\n",
    "\n",
    "整理后的结果如下：\n",
    "\n",
    "| 变量 | 系数 (Coefficient) | P 值 (Prob) | 解释 |\n",
    "|------|------------------|------------|------|\n",
    "| 常数项 (const) | -11.10 | 0.554 | 不显著，没太大意义。 |\n",
    "| L1.Stock（滞后 1 期的库存量） | 0.0894 | 0.571 | 库存对周产量变动无显著影响。 |\n",
    "| L1.Weekly_Production_Diff（滞后 1 期的周产量变化） | -0.0681 | 0.458 | 产量变动的过去值对当前产量变动影响也不大。 |\n",
    "\n",
    "可以看出：\n",
    "\n",
    "* 库存量对产量变化没有显著影响（P=0.571，不显著）。\n",
    "* 产量的变化主要不是由库存决定的，而可能受其他因素（如市场需求）影响。\n",
    "\n",
    "***\n",
    "\n",
    "### Part IV: Correlation matrix of residuals（残差相关性）分析\n",
    "\n",
    "```\n",
    "Correlation matrix of residuals\n",
    "                             Stock  Weekly_Production_Diff\n",
    "Stock                     1.000000                0.011234\n",
    "Weekly_Production_Diff    0.011234                1.000000\n",
    "```\n",
    "\n",
    "从结果可以看出：\n",
    "\n",
    "* 残差相关性非常低（0.011），说明误差项之间几乎没有关联。\n",
    "* 所以可以认为 VAR 模型的两个方程是独立的，结果是可靠的。"
   ]
  },
  {
   "cell_type": "code",
   "execution_count": null,
   "id": "5acdd1c6-c43e-442f-9902-d6c931f799a6",
   "metadata": {
    "editable": true,
    "slideshow": {
     "slide_type": ""
    },
    "tags": []
   },
   "outputs": [],
   "source": []
  },
  {
   "cell_type": "markdown",
   "id": "bfe24d9e-0211-45f2-8860-25817db6b538",
   "metadata": {},
   "source": [
    "**第 4 步：检查因果关系（Granger 检验）**"
   ]
  },
  {
   "cell_type": "code",
   "execution_count": 81,
   "id": "f9e7bd04-bb13-4f56-8e37-3237f3651a22",
   "metadata": {
    "editable": true,
    "slideshow": {
     "slide_type": ""
    },
    "tags": []
   },
   "outputs": [
    {
     "name": "stdout",
     "output_type": "stream",
     "text": [
      "\n",
      "Granger Causality\n",
      "number of lags (no zero) 1\n",
      "ssr based F test:         F=0.8820  , p=0.3496  , df_denom=113, df_num=1\n",
      "ssr based chi2 test:   chi2=0.9055  , p=0.3413  , df=1\n",
      "likelihood ratio test: chi2=0.9019  , p=0.3423  , df=1\n",
      "parameter F test:         F=0.8820  , p=0.3496  , df_denom=113, df_num=1\n"
     ]
    },
    {
     "name": "stderr",
     "output_type": "stream",
     "text": [
      "/Users/psych0/anaconda3/lib/python3.11/site-packages/statsmodels/tsa/stattools.py:1488: FutureWarning: verbose is deprecated since functions should not print results\n",
      "  warnings.warn(\n"
     ]
    }
   ],
   "source": [
    "from statsmodels.tsa.stattools import grangercausalitytests\n",
    "\n",
    "# 运行 Granger 因果检验，滞后阶数设为 1（根据 VAR 结果）\n",
    "granger_result = grangercausalitytests(df_var, maxlag=1, verbose=True)"
   ]
  },
  {
   "cell_type": "markdown",
   "id": "73a8b6ac-2db3-4193-9328-b6474ce1bc0f",
   "metadata": {},
   "source": [
    "从结果（F检验、卡方检验等）可以看出：\n",
    "\n",
    "* 所有 P 值都大于 0.05，说明库存量和周产量变化之间没有明显的因果关系。\n",
    "* 也就是说，库存量的过去值不能有效提高对周产量变化的预测能力。\n",
    "* 表明库存量的变化可能主要受市场需求、订单量等因素影响，而不是短期产量变化的直接影响。"
   ]
  },
  {
   "cell_type": "code",
   "execution_count": null,
   "id": "6e8cfbda-f40f-4a2a-95f9-76959127c0bd",
   "metadata": {},
   "outputs": [],
   "source": []
  },
  {
   "cell_type": "markdown",
   "id": "24c063df-ddee-4b68-84ff-1f9e666c984c",
   "metadata": {
    "panel-layout": {
     "height": 51.13636016845703,
     "visible": true,
     "width": 100
    }
   },
   "source": [
    "**第 5 步：用 VAR 预测未来**"
   ]
  },
  {
   "cell_type": "code",
   "execution_count": 82,
   "id": "6ae2974c-062c-4752-a0b3-d68c879062f6",
   "metadata": {
    "panel-layout": {
     "height": 730,
     "visible": true,
     "width": 100
    }
   },
   "outputs": [
    {
     "name": "stdout",
     "output_type": "stream",
     "text": [
      "未来 5 周预测值:\n",
      "[[108.39781825  -1.47836875]\n",
      " [110.27250463  -1.30841781]\n",
      " [111.79396783  -1.15233664]\n",
      " [113.02932991  -1.02690127]\n",
      " [114.03234969  -0.92496485]]\n"
     ]
    }
   ],
   "source": [
    "forecast = var_results.forecast(df_var.values[-1:], steps=5)\n",
    "print(\"未来 5 周预测值:\")\n",
    "print(forecast)"
   ]
  },
  {
   "cell_type": "code",
   "execution_count": 85,
   "id": "a3eacd1e-9ac4-4fac-895e-85e4047ccfbd",
   "metadata": {
    "panel-layout": {
     "height": 730,
     "visible": true,
     "width": 100
    }
   },
   "outputs": [
    {
     "name": "stdout",
     "output_type": "stream",
     "text": [
      "未来 5 周周产量预测值:\n",
      "[361.52163125403655, 360.2132134470441, 359.0608768041775, 358.03397553846736, 357.1090106849841]\n"
     ]
    }
   ],
   "source": [
    "# 获取最新的真实周产量\n",
    "last_real_weekly_production = df[\"Weekly Production\"].iloc[-1]\n",
    "\n",
    "# 逆差分（从 Weekly_Production_Diff 还原 Weekly Production）\n",
    "predicted_weekly_production = [last_real_weekly_production]\n",
    "\n",
    "for diff in forecast[:, 1]:  # 取 Weekly_Production_Diff 列\n",
    "    next_value = predicted_weekly_production[-1] + diff  # 逆差分公式\n",
    "    predicted_weekly_production.append(next_value)\n",
    "\n",
    "# 删除第一个元素（因为它是已知的历史值）\n",
    "predicted_weekly_production = predicted_weekly_production[1:]\n",
    "\n",
    "# 打印未来 5 周的周产量预测值\n",
    "print(\"未来 5 周周产量预测值:\")\n",
    "print(predicted_weekly_production)"
   ]
  },
  {
   "cell_type": "code",
   "execution_count": 92,
   "id": "42b31114-7ce9-462d-a014-0f366929f465",
   "metadata": {
    "panel-layout": {
     "height": 730,
     "visible": true,
     "width": 100
    }
   },
   "outputs": [
    {
     "name": "stdout",
     "output_type": "stream",
     "text": [
      "   Predicted Stock  Predicted Weekly Production Diff  \\\n",
      "0       108.397818                         -1.478369   \n",
      "1       110.272505                         -1.308418   \n",
      "2       111.793968                         -1.152337   \n",
      "3       113.029330                         -1.026901   \n",
      "4       114.032350                         -0.924965   \n",
      "\n",
      "   Predicted Weekly Production  \n",
      "0                   361.521631  \n",
      "1                   360.213213  \n",
      "2                   359.060877  \n",
      "3                   358.033976  \n",
      "4                   357.109011  \n"
     ]
    }
   ],
   "source": [
    "# 合并数据\n",
    "final_forecast = np.column_stack((forecast, predicted_weekly_production))\n",
    "df_final = pd.DataFrame(final_forecast, columns=[\"Predicted Stock\", \"Predicted Weekly Production Diff\", \"Predicted Weekly Production\"])\n",
    "print(df_final)"
   ]
  },
  {
   "cell_type": "code",
   "execution_count": null,
   "id": "2af2646e-f470-45bf-b1ff-c7b585296deb",
   "metadata": {},
   "outputs": [],
   "source": []
  },
  {
   "cell_type": "code",
   "execution_count": null,
   "id": "31ed0dea-f9d9-4ef0-bee2-4d6a55160289",
   "metadata": {},
   "outputs": [],
   "source": []
  },
  {
   "cell_type": "code",
   "execution_count": null,
   "id": "bc94c07e-e276-40e6-86aa-a664109d2069",
   "metadata": {},
   "outputs": [],
   "source": []
  }
 ],
 "metadata": {
  "kernelspec": {
   "display_name": "Python 3 (ipykernel)",
   "language": "python",
   "name": "python3"
  },
  "language_info": {
   "codemirror_mode": {
    "name": "ipython",
    "version": 3
   },
   "file_extension": ".py",
   "mimetype": "text/x-python",
   "name": "python",
   "nbconvert_exporter": "python",
   "pygments_lexer": "ipython3",
   "version": "3.11.5"
  },
  "panel-cell-order": [
   "f8dffc4f-e90f-4f1c-9a1c-2134946eea2b",
   "38118e1a-bc2f-4488-a5a8-70a52b48f5f5",
   "82a18819-2997-4ebf-b896-a8d9ca3c767c",
   "d7b915d0-7b98-4860-b974-66be9d0adb84",
   "8f469afa-72b7-4cce-9bce-24a8e62af675",
   "57ad6bb5-bb74-4e7b-8629-bb9eb4accd84",
   "9286d530-6ee5-4fb4-8b5a-92eb53e9b149",
   "d3adeaad-adf0-4c3f-b6aa-a0bd2ea1d4d2",
   "c8f98289-e914-4b5a-b219-fd45023bfe29",
   "5e1274dd-ff0a-44fb-bb29-d38bb7c55138",
   "c66fd5ec-25e4-41b3-b639-96572548d583",
   "e2af10bc-7d22-4b5a-849c-19506c5ae0e9",
   "6b4d393a-249e-451d-a7f8-30a84ce5d539",
   "83059ec7-21f9-4b02-89a6-bcca59ac4a2e",
   "32759bb2-c9fc-491c-9b3d-16f5351c7265",
   "8e6727b5-3a2a-428b-abd9-b2608a15fc49",
   "91c8eec2-694d-448a-a9d7-6c14fc56c3f4",
   "ccc4eb77-884c-4b03-b499-b741d8965a0a",
   "41febc42-273e-4346-8478-c3245586f1f4",
   "d91fdf9b-c394-4482-a8db-2ec1fb512574",
   "5d4b4966-e1aa-4c36-b30f-872f9fa03611",
   "3c1a0ac8-f68c-4643-839a-99bbb60f795d",
   "b75cc01f-7205-440a-b67b-0bc8e474a062",
   "5abf235d-2603-4f3a-995d-61311647e425",
   "4dab9303-d1dc-4842-9e7e-9af785d71866",
   "24e83b74-9a8b-48de-8bb6-327ae0bafc0b",
   "d5a190a9-9133-441b-972a-ad5e6b3aa33b",
   "cda12263-565e-4c64-b046-fbe57b2a7edb",
   "921b7e2a-f5f1-476e-819e-c87b8c98e166",
   "53729671-226b-43d4-9de0-6c2f3a5dc26f",
   "db22590b-f2a1-411b-aa29-a2abd29aa93d",
   "2a6f4a62-8383-4201-a1a1-30dee8c22d8e",
   "e94aba6b-7acd-4c26-8375-0b2664cecaf4",
   "3fca5641-cea8-46f3-bce5-993cf8881bee",
   "19f2268b-c9cf-4b02-9261-6bc39c7d41f4",
   "e0e545a0-23b1-4070-bb09-37c5454066aa",
   "07d9db04-683d-461a-a23c-88feaf8ad242",
   "752df3ef-9a15-4e69-806f-efbfa0b398a0",
   "780365ab-b26d-484c-a201-8c7f38850c25",
   "dbc263cc-a197-4d28-b74f-0d7bf88b1eeb",
   "b1aa129d-3ea2-40c8-9c7c-672bba86f53a",
   "d8ab3f23-6b65-4f0c-a55c-6ae00b6ff68c",
   "d9df9f92-738b-47bd-9a7e-4951bb31ad6c",
   "8542b8b6-bdd3-4ecf-8fc1-8a70ad11c3b9",
   "8d8d6bf1-9e14-466d-8626-2b62c22045af",
   "f95ca6bd-5a50-4c46-9468-784b2d68fdb5",
   "55ceed45-031c-40cb-8e0a-a0db5793762b",
   "956ebc33-1567-4ce7-a4d9-45414e55f482",
   "1968ec73-fd07-4332-8110-c92457cecd40",
   "96450dcb-ba73-4283-a6ff-47a678545483",
   "bcc4c681-3ea7-4d34-a48e-f7f801b890e1",
   "7f2c9db9-ae5d-4d25-bda0-a75fc5bf9b2a",
   "7f711eb6-51f6-47a3-b966-f371715ac77d",
   "24c063df-ddee-4b68-84ff-1f9e666c984c",
   "6ae2974c-062c-4752-a0b3-d68c879062f6",
   "a3eacd1e-9ac4-4fac-895e-85e4047ccfbd",
   "42b31114-7ce9-462d-a014-0f366929f465"
  ]
 },
 "nbformat": 4,
 "nbformat_minor": 5
}
